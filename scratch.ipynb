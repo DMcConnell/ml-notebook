{
 "cells": [
  {
   "cell_type": "code",
   "execution_count": 7,
   "id": "70ae1acd-7278-49a0-b853-9baf4e53b3ec",
   "metadata": {},
   "outputs": [
    {
     "name": "stdout",
     "output_type": "stream",
     "text": [
      "tensor([[0.0900, 0.2447, 0.6652],\n",
      "        [0.0900, 0.6652, 0.2447]])\n",
      "torch.Size([2, 3])\n",
      "3\n"
     ]
    }
   ],
   "source": [
    "import torch\n",
    "\n",
    "# Example logits tensor for a batch of data points\n",
    "logits = torch.tensor([[1.0, 2.0, 3.0],\n",
    "                       [1.0, 3.0, 2.0]])\n",
    "\n",
    "# Applying softmax on the last dimension (num_classes)\n",
    "softmax_probs = torch.softmax(logits, dim=-1)\n",
    "\n",
    "print(softmax_probs)\n",
    "\n",
    "print(logits.shape)\n",
    "print(logits.shape[-1])"
   ]
  },
  {
   "cell_type": "code",
   "execution_count": 15,
   "id": "0ed8e7b3-8733-4e6e-85e1-5213c9bb1227",
   "metadata": {},
   "outputs": [
    {
     "name": "stdout",
     "output_type": "stream",
     "text": [
      "[[0.13533528 0.36787944 1.        ]\n",
      " [0.13533528 1.         0.36787944]]\n",
      "------\n",
      "0.13533528323661267\n",
      "0.3678794411714424\n",
      "1.0\n",
      "------\n",
      "(2, 3)\n",
      "[0.27067057 1.36787944 1.36787944]\n",
      "[1.50321472 1.50321472]\n",
      "------\n",
      "[[0.09003057 0.24472847 0.66524096]\n",
      " [0.09003057 0.66524096 0.24472847]]\n"
     ]
    }
   ],
   "source": [
    "import numpy as np\n",
    "\n",
    "def softmax(x):\n",
    "    \"\"\"Compute the softmax of vector x.\"\"\"\n",
    "    exp_x = np.exp(x - np.max(x))  # Subtracting np.max(x) for numerical stability\n",
    "    \n",
    "    print(exp_x)\n",
    "    print(\"------\")\n",
    "    print(np.exp(-2)) # e ^ -2\n",
    "    print(np.exp(-1)) # e ^ -1\n",
    "    print(np.exp(0))  # e ^  0\n",
    "    print(\"------\")\n",
    "    print(exp_x.shape)\n",
    "    print(exp_x.sum(axis=0)) # Sum columns\n",
    "    print(exp_x.sum(axis=-1)) # Sum rows\n",
    "    print(\"------\")\n",
    "    \n",
    "    return exp_x / exp_x.sum(axis=-1, keepdims=True)\n",
    "\n",
    "# Example usage\n",
    "x = np.array([[1.0, 2.0, 3.0],\n",
    "              [1.0, 3.0, 2.0]])\n",
    "softmax_values = softmax(x)\n",
    "\n",
    "print(softmax_values)"
   ]
  }
 ],
 "metadata": {
  "kernelspec": {
   "display_name": "Python 3 (ipykernel)",
   "language": "python",
   "name": "python3"
  },
  "language_info": {
   "codemirror_mode": {
    "name": "ipython",
    "version": 3
   },
   "file_extension": ".py",
   "mimetype": "text/x-python",
   "name": "python",
   "nbconvert_exporter": "python",
   "pygments_lexer": "ipython3",
   "version": "3.11.6"
  }
 },
 "nbformat": 4,
 "nbformat_minor": 5
}
